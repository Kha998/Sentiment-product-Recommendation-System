{
 "cells": [
  {
   "cell_type": "markdown",
   "id": "63350ad7",
   "metadata": {},
   "source": [
    "### Machine Learning Model Evaluation"
   ]
  },
  {
   "cell_type": "markdown",
   "id": "16c3e79b",
   "metadata": {},
   "source": [
    "We evaluates the performance of machine learning models used for sentiment classification.\n",
    "We compare multiple algorithms including Logistic Regression, Naive Bayes, Support Vector Machine, Random Forest, XGBoost and TextBlob."
   ]
  },
  {
   "cell_type": "markdown",
   "id": "d2be2436",
   "metadata": {},
   "source": [
    "##### Import required Libaries"
   ]
  },
  {
   "cell_type": "code",
   "execution_count": 9,
   "id": "6e1d1481",
   "metadata": {},
   "outputs": [],
   "source": [
    "import pandas as pd\n",
    "import matplotlib.pyplot as plt\n",
    "import seaborn as sns\n",
    "from sklearn.metrics import classification_report, confusion_matrix, accuracy_score\n",
    "from joblib import load\n",
    "from sklearn.feature_extraction.text import TfidfVectorizer\n",
    "import joblib"
   ]
  },
  {
   "cell_type": "markdown",
   "id": "0164f762",
   "metadata": {},
   "source": [
    "##### Loaded Dataset"
   ]
  },
  {
   "cell_type": "code",
   "execution_count": 10,
   "id": "2463b328",
   "metadata": {},
   "outputs": [
    {
     "name": "stdout",
     "output_type": "stream",
     "text": [
      "Index(['rating', 'title', 'text', 'asin', 'parent_asin', 'user_id',\n",
      "       'helpful_vote', 'verified_purchase', 'cleaned_text', 'main_category',\n",
      "       'product_title', 'average_rating', 'rating_number', 'price', 'store',\n",
      "       'details', 'sentiment', 'polarity'],\n",
      "      dtype='object')\n"
     ]
    }
   ],
   "source": [
    "# Load your final dataset with sentiment & cleaned reviews\n",
    "final_df = pd.read_csv('data/merged_with_sentiment_and_polarity.csv')\n",
    "final_df.head()\n",
    "# Check columns\n",
    "print(final_df.columns)"
   ]
  },
  {
   "cell_type": "markdown",
   "id": "5347594c",
   "metadata": {},
   "source": [
    "#### Sentiment Classification"
   ]
  },
  {
   "cell_type": "markdown",
   "id": "ff33994d",
   "metadata": {},
   "source": [
    "In this step, the cleaned_text column provides the input features (text reviews), and the sentiment column serves as the target labels (positive, negative, neutral) for supervised machine learning algorithms. The text is first converted to numerical vectors using TF-IDF, allowing the classifier to learn the relationship between the textual content and its sentiment category."
   ]
  },
  {
   "cell_type": "code",
   "execution_count": 11,
   "id": "52cfedd5",
   "metadata": {},
   "outputs": [],
   "source": [
    "# Use cleaned_text and TextBlob sentiment label for now\n",
    "X = final_df['cleaned_text']\n",
    "y = final_df['sentiment']   # Must be 'positive', 'negative', 'neutral'"
   ]
  },
  {
   "cell_type": "markdown",
   "id": "b7466eaa",
   "metadata": {},
   "source": [
    "##### Term Frequency–Inverse Document Frequency Method"
   ]
  },
  {
   "cell_type": "markdown",
   "id": "e57aa0be",
   "metadata": {},
   "source": [
    "The cleaned review text was vectorized using the TF-IDF (Term Frequency–Inverse Document Frequency) method, which transforms textual data into a weighted numeric representation. This ensures that the sentiment classification models can process the data numerically and learn word importance for predicting sentiment labels"
   ]
  },
  {
   "cell_type": "markdown",
   "id": "463358d3",
   "metadata": {},
   "source": [
    "ML models can’t read raw text — we must convert text → numeric vectors.\n",
    "TF-IDF is standard for short reviews."
   ]
  },
  {
   "cell_type": "code",
   "execution_count": 12,
   "id": "30241322",
   "metadata": {},
   "outputs": [
    {
     "name": "stdout",
     "output_type": "stream",
     "text": [
      "(483333, 151164)\n"
     ]
    }
   ],
   "source": [
    "tfidf = TfidfVectorizer()\n",
    "X_tfidf = tfidf.fit_transform(X)\n",
    "\n",
    "print(X_tfidf.shape)  # (rows, features)\n"
   ]
  },
  {
   "cell_type": "markdown",
   "id": "50147b82",
   "metadata": {},
   "source": [
    "We need to split test and train data. The TF-IDF vectorized data was split into training and testing sets using an 80–20 ratio. The training set was used to fit the machine learning classifiers, while the test set was used to evaluate their performance on unseen reviews to ensure model generalizability."
   ]
  },
  {
   "cell_type": "code",
   "execution_count": 13,
   "id": "b6a8478e",
   "metadata": {},
   "outputs": [
    {
     "name": "stdout",
     "output_type": "stream",
     "text": [
      "(386666, 151164) (96667, 151164)\n",
      "sentiment\n",
      "positive    62615\n",
      "neutral     25724\n",
      "negative     8328\n",
      "Name: count, dtype: int64\n"
     ]
    }
   ],
   "source": [
    "from sklearn.model_selection import train_test_split\n",
    "\n",
    "X_train, X_test, y_train, y_test = train_test_split(X_tfidf, y, test_size=0.2, random_state=42)\n",
    "\n",
    "print(X_train.shape, X_test.shape)\n",
    "\n",
    "print(y_test.value_counts())"
   ]
  },
  {
   "cell_type": "markdown",
   "id": "9734491d",
   "metadata": {},
   "source": [
    "#### Sentiment Analysis: Machine Learning Model Evaluation"
   ]
  },
  {
   "cell_type": "markdown",
   "id": "1d2ff1c6",
   "metadata": {},
   "source": [
    "Supervised machine learning is used in this project because the sentiment labels for each review are known beforehand. This allows us to train classification models that can learn the relationship between the review text and its sentiment category. These models can then be used to predict sentiment for new, unseen reviews and support product recommendation and insight generation."
   ]
  },
  {
   "cell_type": "markdown",
   "id": "8aef4f3c",
   "metadata": {},
   "source": [
    "This project goal is to analyze product reviews and classify their sentiment (positive, neutral, or negative), then use this for recommendation and sales insight."
   ]
  },
  {
   "cell_type": "markdown",
   "id": "e50a331a",
   "metadata": {},
   "source": [
    "##### Model 1: Logistic Regression"
   ]
  },
  {
   "cell_type": "markdown",
   "id": "fb09a04a",
   "metadata": {},
   "source": [
    "Logistic Regression is a linear model commonly used for classification problems. It works well with linearly separable data and is efficient for text classification when features are high-dimensional (like with TF-IDF)."
   ]
  },
  {
   "cell_type": "code",
   "execution_count": 14,
   "id": "aac35bd4",
   "metadata": {},
   "outputs": [
    {
     "name": "stdout",
     "output_type": "stream",
     "text": [
      "Logistic Regression Report\n",
      "              precision    recall  f1-score   support\n",
      "\n",
      "    negative       0.82      0.57      0.68      8328\n",
      "     neutral       0.79      0.85      0.82     25724\n",
      "    positive       0.95      0.95      0.95     62615\n",
      "\n",
      "    accuracy                           0.89     96667\n",
      "   macro avg       0.85      0.79      0.82     96667\n",
      "weighted avg       0.89      0.89      0.89     96667\n",
      "\n",
      "Confusion Matrix:\n",
      " [[ 4781  3162   385]\n",
      " [  851 21975  2898]\n",
      " [  193  2683 59739]]\n",
      "Accuracy: 0.8947727766455977\n"
     ]
    }
   ],
   "source": [
    "from sklearn.linear_model import LogisticRegression\n",
    "from sklearn.metrics import classification_report, confusion_matrix,f1_score\n",
    "\n",
    "lr = LogisticRegression(max_iter=1000)\n",
    "lr.fit(X_train, y_train)\n",
    "\n",
    "lr_pred = lr.predict(X_test)\n",
    "\n",
    "print(\"Logistic Regression Report\")\n",
    "print(classification_report(y_test, lr_pred))\n",
    "print(\"Confusion Matrix:\\n\", confusion_matrix(y_test, lr_pred))\n",
    "print(\"Accuracy:\", accuracy_score(y_test, lr_pred))"
   ]
  },
  {
   "cell_type": "markdown",
   "id": "6f61c6db",
   "metadata": {},
   "source": [
    "##### Model 2: Naive Bayes"
   ]
  },
  {
   "cell_type": "markdown",
   "id": "d03ced85",
   "metadata": {},
   "source": [
    "Naive Bayes is a probabilistic classifier based on Bayes’ Theorem. It assumes feature independence and works particularly well with text data and word frequencies like those from TF-IDF."
   ]
  },
  {
   "cell_type": "code",
   "execution_count": 15,
   "id": "4b69ef6a",
   "metadata": {},
   "outputs": [
    {
     "name": "stdout",
     "output_type": "stream",
     "text": [
      "Naive Bayes Report\n",
      "              precision    recall  f1-score   support\n",
      "\n",
      "    negative       0.98      0.03      0.05      8328\n",
      "     neutral       0.61      0.08      0.14     25724\n",
      "    positive       0.67      1.00      0.80     62615\n",
      "\n",
      "    accuracy                           0.67     96667\n",
      "   macro avg       0.76      0.37      0.33     96667\n",
      "weighted avg       0.68      0.67      0.56     96667\n",
      "\n",
      "Confusion Matrix:\n",
      " [[  214  1110  7004]\n",
      " [    2  2035 23687]\n",
      " [    2   165 62448]]\n",
      "Accuracy: 0.6692770024930949\n"
     ]
    }
   ],
   "source": [
    "from sklearn.naive_bayes import MultinomialNB\n",
    "\n",
    "nb = MultinomialNB()\n",
    "nb.fit(X_train, y_train)\n",
    "nb_pred = nb.predict(X_test)\n",
    "\n",
    "print(\"Naive Bayes Report\")\n",
    "print(classification_report(y_test, nb_pred))\n",
    "print(\"Confusion Matrix:\\n\", confusion_matrix(y_test, nb_pred))\n",
    "print(\"Accuracy:\", accuracy_score(y_test, nb_pred))"
   ]
  },
  {
   "cell_type": "markdown",
   "id": "98e94832",
   "metadata": {},
   "source": [
    "##### Model 3: Support Vector Machine"
   ]
  },
  {
   "cell_type": "markdown",
   "id": "70cfbc7b",
   "metadata": {},
   "source": [
    "SVM finds the optimal hyperplane that best separates data into classes. It is powerful for high-dimensional data like text and usually provides strong performance."
   ]
  },
  {
   "cell_type": "code",
   "execution_count": 16,
   "id": "fae621f9",
   "metadata": {},
   "outputs": [
    {
     "name": "stdout",
     "output_type": "stream",
     "text": [
      "SVM Results:\n",
      "               precision    recall  f1-score   support\n",
      "\n",
      "    negative       0.74      0.57      0.65      8328\n",
      "     neutral       0.78      0.79      0.78     25724\n",
      "    positive       0.93      0.95      0.94     62615\n",
      "\n",
      "    accuracy                           0.88     96667\n",
      "   macro avg       0.82      0.77      0.79     96667\n",
      "weighted avg       0.87      0.88      0.87     96667\n",
      "\n",
      "Confusion Matrix:\n",
      " [[ 4771  3137   420]\n",
      " [ 1464 20269  3991]\n",
      " [  221  2647 59747]]\n",
      "Accuracy: 0.8771038720556136\n"
     ]
    }
   ],
   "source": [
    "from sklearn.svm import LinearSVC\n",
    "from sklearn.metrics import classification_report, confusion_matrix, accuracy_score,f1_score\n",
    "\n",
    "# Train SVM\n",
    "svm = LinearSVC()\n",
    "svm.fit(X_train, y_train)\n",
    "\n",
    "# Predict\n",
    "svm_pred = svm.predict(X_test)\n",
    "\n",
    "# Evaluate\n",
    "print(\"SVM Results:\\n\", classification_report(y_test, svm_pred))\n",
    "print(\"Confusion Matrix:\\n\", confusion_matrix(y_test, svm_pred))\n",
    "print(\"Accuracy:\", accuracy_score(y_test, svm_pred))"
   ]
  },
  {
   "cell_type": "markdown",
   "id": "9d629398",
   "metadata": {},
   "source": [
    "##### Save Trained Models"
   ]
  },
  {
   "cell_type": "code",
   "execution_count": 17,
   "id": "332c8701",
   "metadata": {},
   "outputs": [
    {
     "data": {
      "text/plain": [
       "['models/sentiment_svm.pkl']"
      ]
     },
     "execution_count": 17,
     "metadata": {},
     "output_type": "execute_result"
    }
   ],
   "source": [
    "joblib.dump(lr, 'models/sentiment_logreg.pkl')\n",
    "joblib.dump(nb, 'models/sentiment_naivebayes.pkl')\n",
    "joblib.dump(svm, 'models/sentiment_svm.pkl')\n"
   ]
  },
  {
   "cell_type": "markdown",
   "id": "dfdae6cc",
   "metadata": {},
   "source": [
    "#### Comapring Model Evaluation (Accuracy & F1 Score)"
   ]
  },
  {
   "cell_type": "markdown",
   "id": "751b2cb5",
   "metadata": {},
   "source": [
    "This will show the best performance modle.\n",
    "\n",
    "Accuracy: the proportion of correctly predicted instances.\n",
    "\n",
    "F1 Score: the harmonic mean of precision and recall, especially useful for imbalanced datasets."
   ]
  },
  {
   "cell_type": "code",
   "execution_count": 18,
   "id": "002fd5c0",
   "metadata": {},
   "outputs": [
    {
     "name": "stdout",
     "output_type": "stream",
     "text": [
      "                 Model  Accuracy  F1 Score\n",
      "0  Logistic Regression  0.894773  0.892619\n",
      "1          Naive Bayes  0.669277  0.561027\n",
      "2                  SVM  0.877104  0.874498\n"
     ]
    }
   ],
   "source": [
    "sentiment_results = {\n",
    "    'Model': ['Logistic Regression', 'Naive Bayes', 'SVM'],\n",
    "    'Accuracy': [\n",
    "        accuracy_score(y_test, lr_pred),\n",
    "        accuracy_score(y_test, nb_pred),\n",
    "        accuracy_score(y_test, svm_pred)\n",
    "    \n",
    "        \n",
    "    ],\n",
    "    'F1 Score': [\n",
    "        f1_score(y_test, lr_pred, average='weighted'),\n",
    "        f1_score(y_test, nb_pred, average='weighted'),\n",
    "        f1_score(y_test, svm_pred, average='weighted')\n",
    "    \n",
    "    ]\n",
    "}\n",
    "\n",
    "# Create and display DataFrame\n",
    "df_results = pd.DataFrame(sentiment_results)\n",
    "print(df_results)  # 👈 This will display the accuracy table\n",
    "\n",
    "# Save to CSV\n",
    "df_results.to_csv('models/performance wiht accuracy.csv', index=False)"
   ]
  },
  {
   "cell_type": "markdown",
   "id": "561e775f",
   "metadata": {},
   "source": [
    "##### Model Performance Visualization (Accuracy & F1 Score)"
   ]
  },
  {
   "cell_type": "markdown",
   "id": "b52edc87",
   "metadata": {},
   "source": [
    "This bar plot displays the accuracy score of each tuned model. Accuracy indicates the percentage of correct predictions made by the model on the test dataset. The F1 Score considers both precision and recall, making it useful for imbalanced datasets. This plot allows us to visually assess how well each model balances false positives and false negatives."
   ]
  },
  {
   "cell_type": "code",
   "execution_count": 19,
   "id": "35bed24a",
   "metadata": {},
   "outputs": [
    {
     "data": {
      "image/png": "[encoded data removed]",
      "text/plain": [
       "<Figure size 640x480 with 1 Axes>"
      ]
     },
     "metadata": {},
     "output_type": "display_data"
    },
    {
     "data": {
      "image/png": "[encoded data removed]",
      "text/plain": [
       "<Figure size 800x400 with 1 Axes>"
      ]
     },
     "metadata": {},
     "output_type": "display_data"
    }
   ],
   "source": [
    "import seaborn as sns\n",
    "import matplotlib.pyplot as plt\n",
    "\n",
    "# Accuracy Performance\n",
    "sns.barplot(data=df_results, x='Model', y='Accuracy')\n",
    "plt.ylim(0, 1)\n",
    "plt.title(\"Model Accuracy Comparison\")\n",
    "plt.ylabel(\"Accuracy Score\")\n",
    "plt.xticks(rotation=15)\n",
    "plt.show()\n",
    "\n",
    "# F1 Score performance\n",
    "plt.figure(figsize=(8, 4))\n",
    "plt.bar(df_results['Model'], df_results['F1 Score'])\n",
    "plt.title(\"Model F1 Score Comparison\")\n",
    "plt.ylabel(\"F1 Score\")\n",
    "plt.ylim(0, 1)\n",
    "plt.show()"
   ]
  },
  {
   "cell_type": "markdown",
   "id": "8a1a0c72",
   "metadata": {},
   "source": [
    "#### Hyperparameter Tuning with GridSearchCV"
   ]
  },
  {
   "cell_type": "markdown",
   "id": "e2904ed4",
   "metadata": {},
   "source": [
    "Hyperparameter tuning helps improve model performance by finding the best combination of parameters. GridSearchCV performs an exhaustive search over specified parameter values using cross-validation to evaluate model performance. GridSearchCV tests multiple combinations of hyperparameters using cross-validation, and selects the best-performing model configuration.\n",
    "\n",
    "Hyperparameter tuning allows the model to learn the best internal settings to achieve the highest possible accuracy on unseen reviews. Without tuning, the model may underperform or overfit"
   ]
  },
  {
   "cell_type": "markdown",
   "id": "ab0ffeb8",
   "metadata": {},
   "source": [
    "##### Logistic Regression Tuning"
   ]
  },
  {
   "cell_type": "markdown",
   "id": "730c570f",
   "metadata": {},
   "source": [
    "In this step, we perform hyperparameter tuning using GridSearchCV to find the best combination of parameters for the LogisticRegression model. This helps improve model accuracy and generalization by selecting the best combination of penalty, regularization strength, and solver."
   ]
  },
  {
   "cell_type": "code",
   "execution_count": 20,
   "id": "cb9c4dde",
   "metadata": {},
   "outputs": [
    {
     "name": "stdout",
     "output_type": "stream",
     "text": [
      "Best Logistic Regression Parameters: {'C': 10, 'penalty': 'l2', 'solver': 'lbfgs'}\n",
      "\n",
      "--- Tuned Logistic Regression Evaluation ---\n",
      "Accuracy: 0.9015279257657732\n",
      "F1 Score: 0.9008471719428678\n",
      "\n",
      "Classification Report:\n",
      "               precision    recall  f1-score   support\n",
      "\n",
      "    negative       0.81      0.66      0.73      8328\n",
      "     neutral       0.81      0.86      0.83     25724\n",
      "    positive       0.95      0.95      0.95     62615\n",
      "\n",
      "    accuracy                           0.90     96667\n",
      "   macro avg       0.86      0.82      0.84     96667\n",
      "weighted avg       0.90      0.90      0.90     96667\n",
      "\n"
     ]
    }
   ],
   "source": [
    "from sklearn.model_selection import GridSearchCV\n",
    "from sklearn.linear_model import LogisticRegression\n",
    "from sklearn.metrics import accuracy_score, f1_score, classification_report\n",
    "\n",
    "\n",
    "# Define parameter grid\n",
    "lr_params = {\n",
    "    'C': [0.01, 0.1, 1, 10],\n",
    "    'penalty': ['l2'],\n",
    "    'solver': ['liblinear', 'lbfgs']\n",
    "}\n",
    "\n",
    "# Setup GridSearch\n",
    "lr_grid = GridSearchCV(LogisticRegression(max_iter=1000), lr_params, cv=5, scoring='accuracy', n_jobs=-1)\n",
    "lr_grid.fit(X_train, y_train)\n",
    "\n",
    "# Best model\n",
    "best_lr = lr_grid.best_estimator_\n",
    "print(\"Best Logistic Regression Parameters:\", lr_grid.best_params_)\n",
    "\n",
    "\n",
    "# Predict with best Logistic Regression model\n",
    "lr_pred = best_lr.predict(X_test)\n",
    "\n",
    "# Evaluate\n",
    "print(\"\\n--- Tuned Logistic Regression Evaluation ---\")\n",
    "print(\"Accuracy:\", accuracy_score(y_test, lr_pred))\n",
    "print(\"F1 Score:\", f1_score(y_test, lr_pred, average='weighted'))\n",
    "print(\"\\nClassification Report:\\n\", classification_report(y_test, lr_pred))\n"
   ]
  },
  {
   "cell_type": "markdown",
   "id": "7204131a",
   "metadata": {},
   "source": [
    "##### Naive Bayes Tuning (MultinomialNB)"
   ]
  },
  {
   "cell_type": "markdown",
   "id": "4aa5fca0",
   "metadata": {},
   "source": [
    "We apply GridSearchCV to tune the Multinomial Naive Bayes classifier. The tuning focuses on the smoothing parameter (alpha) and whether to learn class prior probabilities."
   ]
  },
  {
   "cell_type": "code",
   "execution_count": 21,
   "id": "4e72cf56",
   "metadata": {},
   "outputs": [
    {
     "name": "stdout",
     "output_type": "stream",
     "text": [
      "Best Naive Bayes Parameters: {'alpha': 0.1}\n",
      "\n",
      "--- Tuned Naive Bayes Evaluation ---\n",
      "Accuracy: 0.7027320595446223\n",
      "F1 Score: 0.6415546863102493\n",
      "\n",
      "Classification Report:\n",
      "               precision    recall  f1-score   support\n",
      "\n",
      "    negative       0.77      0.14      0.23      8328\n",
      "     neutral       0.58      0.23      0.33     25724\n",
      "    positive       0.72      0.97      0.82     62615\n",
      "\n",
      "    accuracy                           0.70     96667\n",
      "   macro avg       0.69      0.45      0.46     96667\n",
      "weighted avg       0.69      0.70      0.64     96667\n",
      "\n"
     ]
    }
   ],
   "source": [
    "from sklearn.naive_bayes import MultinomialNB\n",
    "\n",
    "# Parameter grid\n",
    "nb_params = {\n",
    "    'alpha': [0.1, 0.5, 1.0]\n",
    "}\n",
    "\n",
    "nb_grid = GridSearchCV(MultinomialNB(), nb_params, cv=5, scoring='accuracy', n_jobs=-1)\n",
    "nb_grid.fit(X_train, y_train)\n",
    "\n",
    "best_nb = nb_grid.best_estimator_\n",
    "print(\"Best Naive Bayes Parameters:\", nb_grid.best_params_)\n",
    "\n",
    "# Predict with best model\n",
    "nb_pred = best_nb.predict(X_test)\n",
    "\n",
    "# Evaluate\n",
    "print(\"\\n--- Tuned Naive Bayes Evaluation ---\")\n",
    "print(\"Accuracy:\", accuracy_score(y_test, nb_pred))\n",
    "print(\"F1 Score:\", f1_score(y_test, nb_pred, average='weighted'))\n",
    "print(\"\\nClassification Report:\\n\", classification_report(y_test, nb_pred))\n"
   ]
  },
  {
   "cell_type": "markdown",
   "id": "3ca31e94",
   "metadata": {},
   "source": [
    "##### Support Vector Machine Tuning (LinearSVC)"
   ]
  },
  {
   "cell_type": "markdown",
   "id": "65b12fbb",
   "metadata": {},
   "source": [
    "We use GridSearchCV to tune the Linear Support Vector Classifier (LinearSVC). The parameters explored include the regularization parameter (C) and the loss function type."
   ]
  },
  {
   "cell_type": "code",
   "execution_count": 22,
   "id": "c08126b4",
   "metadata": {},
   "outputs": [
    {
     "name": "stdout",
     "output_type": "stream",
     "text": [
      "Best SVM Parameters: {'C': 1}\n",
      "\n",
      "--- Tuned SVM Evaluation ---\n",
      "Accuracy: 0.8771038720556136\n",
      "F1 Score: 0.8744982783496\n",
      "\n",
      "Classification Report:\n",
      "               precision    recall  f1-score   support\n",
      "\n",
      "    negative       0.74      0.57      0.65      8328\n",
      "     neutral       0.78      0.79      0.78     25724\n",
      "    positive       0.93      0.95      0.94     62615\n",
      "\n",
      "    accuracy                           0.88     96667\n",
      "   macro avg       0.82      0.77      0.79     96667\n",
      "weighted avg       0.87      0.88      0.87     96667\n",
      "\n"
     ]
    }
   ],
   "source": [
    "from sklearn.svm import LinearSVC\n",
    "\n",
    "# Parameter grid\n",
    "svm_params = {\n",
    "    'C': [0.01, 0.1, 1, 10]\n",
    "}\n",
    "\n",
    "svm_grid = GridSearchCV(LinearSVC(), svm_params, cv=5, scoring='accuracy', n_jobs=-1)\n",
    "svm_grid.fit(X_train, y_train)\n",
    "\n",
    "best_svm = svm_grid.best_estimator_\n",
    "print(\"Best SVM Parameters:\", svm_grid.best_params_)\n",
    "# Predict and evaluate\n",
    "svm_pred = best_svm.predict(X_test)\n",
    "\n",
    "print(\"\\n--- Tuned SVM Evaluation ---\")\n",
    "print(\"Accuracy:\", accuracy_score(y_test, svm_pred))\n",
    "print(\"F1 Score:\", f1_score(y_test, svm_pred, average='weighted'))\n",
    "print(\"\\nClassification Report:\\n\", classification_report(y_test, svm_pred))\n"
   ]
  },
  {
   "cell_type": "markdown",
   "id": "55b804d9",
   "metadata": {},
   "source": [
    "##### Tuned Models Evaluation (Accuracy & F1 Score)"
   ]
  },
  {
   "cell_type": "markdown",
   "id": "d1f11405",
   "metadata": {},
   "source": [
    "After tuning our models using GridSearchCV, we now evaluate their performance on the unseen test dataset. This allows us to verify whether hyperparameter tuning has improved model accuracy and generalization.\n",
    "\n",
    "We use accuracy_score and F1 score to assess the overall correctness of each model’s predictions."
   ]
  },
  {
   "cell_type": "code",
   "execution_count": 23,
   "id": "ce03f2bc",
   "metadata": {},
   "outputs": [
    {
     "name": "stdout",
     "output_type": "stream",
     "text": [
      "                 Model  Accuracy  F1 Score\n",
      "0  Logistic Regression  0.901528  0.900847\n",
      "1          Naive Bayes  0.702732  0.641555\n",
      "2                  SVM  0.877104  0.874498\n"
     ]
    }
   ],
   "source": [
    "from sklearn.metrics import accuracy_score, f1_score\n",
    "import pandas as pd\n",
    "\n",
    "# Generate predictions\n",
    "lr_pred = best_lr.predict(X_test)\n",
    "nb_pred = best_nb.predict(X_test)\n",
    "svm_pred = best_svm.predict(X_test)\n",
    "\n",
    "# Store metrics in a dictionary\n",
    "results = {\n",
    "    'Model': ['Logistic Regression', 'Naive Bayes', 'SVM'],\n",
    "    'Accuracy': [\n",
    "        accuracy_score(y_test, lr_pred),\n",
    "        accuracy_score(y_test, nb_pred),\n",
    "        accuracy_score(y_test, svm_pred)\n",
    "    ],\n",
    "    'F1 Score': [\n",
    "        f1_score(y_test, lr_pred, average='weighted'),\n",
    "        f1_score(y_test, nb_pred, average='weighted'),\n",
    "        f1_score(y_test, svm_pred, average='weighted')\n",
    "    ]\n",
    "}\n",
    "\n",
    "# Convert to DataFrame\n",
    "df_results = pd.DataFrame(results)\n",
    "\n",
    "# Display the results\n",
    "print(df_results)\n",
    "\n",
    "# Save as CSV\n",
    "df_results.to_csv(\"models/model_comparison_results_Tuned.csv\", index=False)\n"
   ]
  },
  {
   "cell_type": "markdown",
   "id": "b6182284",
   "metadata": {},
   "source": [
    "In this step, we evaluate the performance of the tuned machine learning models — Logistic Regression, Naive Bayes, and Support Vector Machine (SVM) — using two key classification metrics:\n",
    "\n",
    "Accuracy: Measures overall correctness.\n",
    "\n",
    "F1 Score: Balances precision and recall, especially useful for imbalanced data."
   ]
  },
  {
   "cell_type": "markdown",
   "id": "b461f777",
   "metadata": {},
   "source": [
    "##### Model Performance Visualization after Hyperparameter Tuning (Accuracy & F1 Score)"
   ]
  },
  {
   "cell_type": "markdown",
   "id": "60ad40bb",
   "metadata": {},
   "source": [
    "In this section, we visualize the performance of different machine learning models after applying hyperparameter tuning. We use bar plots to compare each model based on two important evaluation metrics: Accuracy and F1 Score."
   ]
  },
  {
   "cell_type": "code",
   "execution_count": 24,
   "id": "516d8836",
   "metadata": {},
   "outputs": [
    {
     "name": "stderr",
     "output_type": "stream",
     "text": [
      "C:\\Users\\User\\AppData\\Local\\Temp\\ipykernel_52528\\1049281478.py:6: FutureWarning: \n",
      "\n",
      "Passing `palette` without assigning `hue` is deprecated and will be removed in v0.14.0. Assign the `x` variable to `hue` and set `legend=False` for the same effect.\n",
      "\n",
      "  sns.barplot(data=df_results, x='Model', y='Accuracy', palette='Blues_d')\n"
     ]
    },
    {
     "data": {
      "image/png": "[encoded data removed]",
      "text/plain": [
       "<Figure size 800x400 with 1 Axes>"
      ]
     },
     "metadata": {},
     "output_type": "display_data"
    },
    {
     "name": "stderr",
     "output_type": "stream",
     "text": [
      "C:\\Users\\User\\AppData\\Local\\Temp\\ipykernel_52528\\1049281478.py:17: FutureWarning: \n",
      "\n",
      "Passing `palette` without assigning `hue` is deprecated and will be removed in v0.14.0. Assign the `x` variable to `hue` and set `legend=False` for the same effect.\n",
      "\n",
      "  sns.barplot(data=df_results, x='Model', y='F1 Score', palette='Greens_d')\n"
     ]
    },
    {
     "data": {
      "image/png": "[encoded data removed]",
      "text/plain": [
       "<Figure size 800x400 with 1 Axes>"
      ]
     },
     "metadata": {},
     "output_type": "display_data"
    }
   ],
   "source": [
    "import seaborn as sns\n",
    "import matplotlib.pyplot as plt\n",
    "\n",
    "# Accuracy Plot\n",
    "plt.figure(figsize=(8, 4))\n",
    "sns.barplot(data=df_results, x='Model', y='Accuracy', palette='Blues_d')\n",
    "plt.ylim(0, 1)\n",
    "plt.title('Model Accuracy Comparison')\n",
    "plt.ylabel('Accuracy Score')\n",
    "plt.xlabel('Models')\n",
    "plt.xticks(rotation=15)\n",
    "plt.tight_layout()\n",
    "plt.show()\n",
    "\n",
    "# F1 Score Plot\n",
    "plt.figure(figsize=(8, 4))\n",
    "sns.barplot(data=df_results, x='Model', y='F1 Score', palette='Greens_d')\n",
    "plt.ylim(0, 1)\n",
    "plt.title('Model F1 Score Comparison')\n",
    "plt.ylabel('F1 Score')\n",
    "plt.xlabel('Models')\n",
    "plt.xticks(rotation=15)\n",
    "plt.tight_layout()\n",
    "plt.show()\n"
   ]
  },
  {
   "cell_type": "markdown",
   "id": "658e0d78",
   "metadata": {},
   "source": [
    "This plot compares the accuracy and F1 scores of the models. Higher accuracy indicates better classification performance."
   ]
  },
  {
   "cell_type": "code",
   "execution_count": 27,
   "id": "f0e1177b",
   "metadata": {},
   "outputs": [
    {
     "name": "stdout",
     "output_type": "stream",
     "text": [
      "              Model  Accuracy (Before)  Accuracy (After)  F1 Score (Before)  F1 Score (After)\n",
      "Logistic Regression           0.894773          0.901528           0.892619          0.900847\n",
      "        Naive Bayes           0.669277          0.702732           0.561027          0.641555\n",
      "                SVM           0.877104          0.877104           0.874498          0.874498\n"
     ]
    }
   ],
   "source": [
    "\n",
    "\n",
    "#Predict with Untuned Models ---\n",
    "lr_pred_before = lr.predict(X_test)\n",
    "nb_pred_before = nb.predict(X_test)\n",
    "svm_pred_before = svm.predict(X_test)\n",
    "\n",
    "# After tuning predictions\n",
    "lr_pred_after = best_lr.predict(X_test)\n",
    "nb_pred_after = best_nb.predict(X_test)\n",
    "svm_pred_after = best_svm.predict(X_test)\n",
    "\n",
    "# Create dictionary with all metrics\n",
    "comparison_results = {\n",
    "    'Model': ['Logistic Regression', 'Naive Bayes', 'SVM'],\n",
    "    'Accuracy (Before)': [\n",
    "        accuracy_score(y_test, lr_pred_before),\n",
    "        accuracy_score(y_test, nb_pred_before),\n",
    "        accuracy_score(y_test, svm_pred_before)\n",
    "    ],\n",
    "    'Accuracy (After)': [\n",
    "        accuracy_score(y_test, lr_pred_after),\n",
    "        accuracy_score(y_test, nb_pred_after),\n",
    "        accuracy_score(y_test, svm_pred_after)\n",
    "    ],\n",
    "    'F1 Score (Before)': [\n",
    "        f1_score(y_test, lr_pred_before, average='weighted'),\n",
    "        f1_score(y_test, nb_pred_before, average='weighted'),\n",
    "        f1_score(y_test, svm_pred_before, average='weighted')\n",
    "    ],\n",
    "    'F1 Score (After)': [\n",
    "        f1_score(y_test, lr_pred_after, average='weighted'),\n",
    "        f1_score(y_test, nb_pred_after, average='weighted'),\n",
    "        f1_score(y_test, svm_pred_after, average='weighted')\n",
    "    ]\n",
    "}\n",
    "\n",
    "# Convert to DataFrame\n",
    "df_comparison = pd.DataFrame(comparison_results)\n",
    "\n",
    "# Display nicely\n",
    "print(df_comparison.to_string(index=False))\n",
    "\n",
    "# Save to CSV (optional)\n",
    "df_comparison.to_csv(\"models/model_comparison_before_after_tuning.csv\", index=False)"
   ]
  }
 ],
 "metadata": {
  "kernelspec": {
   "display_name": "Python 3",
   "language": "python",
   "name": "python3"
  },
  "language_info": {
   "codemirror_mode": {
    "name": "ipython",
    "version": 3
   },
   "file_extension": ".py",
   "mimetype": "text/x-python",
   "name": "python",
   "nbconvert_exporter": "python",
   "pygments_lexer": "ipython3",
   "version": "3.12.7"
  }
 },
 "nbformat": 4,
 "nbformat_minor": 5
}
