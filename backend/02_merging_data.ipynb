{
 "cells": [
  {
   "cell_type": "markdown",
   "id": "0ba162a1",
   "metadata": {},
   "source": [
    "#### Merging Cleaned Review and Metadata"
   ]
  },
  {
   "cell_type": "markdown",
   "id": "3ca81a5e",
   "metadata": {},
   "source": [
    "This step merges the two cleaned datasets on `parent_asin` to produce a single dataset for sentiment analysis."
   ]
  },
  {
   "cell_type": "code",
   "execution_count": 2,
   "id": "5f915ccc",
   "metadata": {},
   "outputs": [
    {
     "name": "stdout",
     "output_type": "stream",
     "text": [
      "   rating                                              title  \\\n",
      "0       4  12 mg is 12 on the periodic table people! Mg f...   \n",
      "1       5                 Save the lanet using less plastic.   \n",
      "2       5                                          Fantastic   \n",
      "3       4  It holds the water and makes bubbles.  That's ...   \n",
      "4       1                                         Not for me   \n",
      "\n",
      "                                                text        asin parent_asin  \\\n",
      "0  This review is more to clarify someone else’s ...  B07TDSJZMR  B07TDSJZMR   \n",
      "1  Love these easy multitasking bleach tablets. B...  B08637FWWF  B08637FWWF   \n",
      "2  I have been suffering a couple months with hee...  B07KJVGNN5  B07KJVGNN5   \n",
      "3  It's cheap and it does what I wanted.  The \"ma...  B007HY7GC2  B092RP73CX   \n",
      "4  Didn't do a thing for me. Not saying they don'...  B08KYJLF5T  B08KYJLF5T   \n",
      "\n",
      "                        user_id  helpful_vote  verified_purchase  \\\n",
      "0  AFKZENTNBQ7A7V7UXW5JJI6UGRYQ             3               True   \n",
      "1  AEVWAM3YWN5URJVJIZZ6XPD2MKIA             3               True   \n",
      "2  AHSPLDNW5OOUK2PLH7GXLACFBZNQ             0               True   \n",
      "3  AEZGPLOYTSAPR3DHZKKXEFPAXUAA             7               True   \n",
      "4  AEQAYV7RXZEBXMQIQPL6KCT2CFWQ             0               True   \n",
      "\n",
      "                                        cleaned_text           main_category  \\\n",
      "0  this review is more to clarify someone elses r...  Health & Personal Care   \n",
      "1  love these easy multitasking bleach tablets be...  Health & Personal Care   \n",
      "2  i have been suffering a couple months with hee...  Health & Personal Care   \n",
      "3  its cheap and it does what i wanted  the massa...  Health & Personal Care   \n",
      "4  didnt do a thing for me not saying they dont j...  Health & Personal Care   \n",
      "\n",
      "                                       product_title  average_rating  \\\n",
      "0  High Potency Magnesium Citrate Capsules 1000mg...             4.5   \n",
      "1  Evolve Concentrated Bleach Tablets - 32-ct Bot...             4.8   \n",
      "2  Dr. Foot's Gel Heel Protectors, Plantar Fascii...             3.6   \n",
      "3  Homedics Bubble Bliss Deluxe-Foot Spa, Heat Ma...             4.4   \n",
      "4  Brain Supplement 1053mg - Premium Nootropic Br...             4.1   \n",
      "\n",
      "   rating_number  price               store  \\\n",
      "0            470  19.99      Life Nutrition   \n",
      "1            181  19.99              Evolve   \n",
      "2             78  19.99             Dr.Foot   \n",
      "3           8312  19.99            Homedics   \n",
      "4             94  19.99  Nature's Nutrition   \n",
      "\n",
      "                                             details  \n",
      "0  Brand: Life Nutrition, Unit Count: 60 Count, F...  \n",
      "1  Brand: Evolve, Scent: Fresh,Lemon, Product Ben...  \n",
      "2  Is Discontinued By Manufacturer: No, Product D...  \n",
      "3  Use for: Feet, Power Source: Corded Electric, ...  \n",
      "4  Brand: \"Natures Nutrition\", Unit Count: 180.00...  \n",
      "(488767, 16)\n"
     ]
    }
   ],
   "source": [
    "import pandas as pd\n",
    "\n",
    "# Load cleaned files\n",
    "reviews = pd.read_csv('data/cleaned_reviews_df.csv')\n",
    "metadata = pd.read_csv('data/cleaned_metadata_df.csv')\n",
    "\n",
    "# Merge\n",
    "merged_df = pd.merge(reviews, metadata, on='parent_asin', how='inner')\n",
    "\n",
    "# Preview\n",
    "print(merged_df.head())\n",
    "print(merged_df.shape)\n",
    "\n",
    "# Save for later steps\n",
    "merged_df.to_csv('data/merged_cleaned_data.csv', index=False)\n"
   ]
  },
  {
   "cell_type": "markdown",
   "id": "3d7f6960",
   "metadata": {},
   "source": [
    "#### Show Length of Rows and Columns for merged dataset"
   ]
  },
  {
   "cell_type": "code",
   "execution_count": 3,
   "id": "ab335168",
   "metadata": {},
   "outputs": [
    {
     "name": "stdout",
     "output_type": "stream",
     "text": [
      "Rows length: 488767\n",
      "Columns length: Index(['rating', 'title', 'text', 'asin', 'parent_asin', 'user_id',\n",
      "       'helpful_vote', 'verified_purchase', 'cleaned_text', 'main_category',\n",
      "       'product_title', 'average_rating', 'rating_number', 'price', 'store',\n",
      "       'details'],\n",
      "      dtype='object')\n"
     ]
    }
   ],
   "source": [
    "# show length of rows and columns from dataset after cleaning\n",
    "print(f\"Rows length: {len(merged_df)}\")\n",
    "print(f\"Columns length: {merged_df.columns}\")"
   ]
  },
  {
   "cell_type": "markdown",
   "id": "9ee77854",
   "metadata": {},
   "source": [
    "-Displays the number of rows and the list of column names in the merged dataset."
   ]
  }
 ],
 "metadata": {
  "kernelspec": {
   "display_name": "Python 3",
   "language": "python",
   "name": "python3"
  },
  "language_info": {
   "codemirror_mode": {
    "name": "ipython",
    "version": 3
   },
   "file_extension": ".py",
   "mimetype": "text/x-python",
   "name": "python",
   "nbconvert_exporter": "python",
   "pygments_lexer": "ipython3",
   "version": "3.12.7"
  }
 },
 "nbformat": 4,
 "nbformat_minor": 5
}
