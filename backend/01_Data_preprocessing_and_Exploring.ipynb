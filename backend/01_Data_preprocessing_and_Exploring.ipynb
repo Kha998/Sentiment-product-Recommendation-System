{
 "cells": [
  {
   "cell_type": "markdown",
   "id": "90807f9f",
   "metadata": {},
   "source": [
    "### Project Title\n"
   ]
  },
  {
   "cell_type": "markdown",
   "id": "a898671a",
   "metadata": {},
   "source": [
    "Developing a Sentiment-Driven Product Recommendation and Sales Insight for E Commerce Using Machine Learning and Visualization Dashboard."
   ]
  },
  {
   "cell_type": "markdown",
   "id": "08be1239",
   "metadata": {},
   "source": [
    "### Dataset Description"
   ]
  },
  {
   "cell_type": "markdown",
   "id": "16d78325",
   "metadata": {},
   "source": [
    " This dataset is having two files of Amazon Product's Reviews and metadata as per their details listed on the official website of Amazon for the Amazon Reviews’23.\n",
    "\n",
    "Datasource: https://amazon-reviews-2023.github.io/main.html"
   ]
  },
  {
   "cell_type": "markdown",
   "id": "a6976880",
   "metadata": {},
   "source": [
    "### 1. Data Exploration\n"
   ]
  },
  {
   "cell_type": "markdown",
   "id": "f0a07a8b",
   "metadata": {},
   "source": [
    "##### Import Required Libraries"
   ]
  },
  {
   "cell_type": "markdown",
   "id": "59cad0f0",
   "metadata": {},
   "source": [
    " Firstly, we need to import all necessary require libraries before start the project."
   ]
  },
  {
   "cell_type": "code",
   "execution_count": 127,
   "id": "bc6e2561",
   "metadata": {},
   "outputs": [],
   "source": [
    "# improt require liraries\n",
    "\n",
    "import pandas as pd\n",
    "import numpy as np\n",
    "import matplotlib.pyplot as plt\n",
    "import seaborn as sns\n",
    "import re\n"
   ]
  },
  {
   "cell_type": "markdown",
   "id": "6264a2c3",
   "metadata": {},
   "source": [
    "##### Upload dataset files"
   ]
  },
  {
   "cell_type": "markdown",
   "id": "2b469e2b",
   "metadata": {},
   "source": [
    " Next step, need to upload dataset files. The dataset type is the csv file. In this step, the dataset is imported from the data folder. This folder contains two dataset files like review_Health_and_Personal_Care.csv and meta_Health_and_Personal_Care.csv.\n"
   ]
  },
  {
   "cell_type": "code",
   "execution_count": 128,
   "id": "24b399c6",
   "metadata": {},
   "outputs": [],
   "source": [
    "# Load product reviews dataset file\n",
    "reviews = pd.read_csv('data/raw/review_Health_and_Personal_Care.csv')\n",
    "\n",
    "# Load product metadata dataset file\n",
    "metadata = pd.read_csv('data/raw/meta_Health_and_Personal_Care.csv')\n"
   ]
  },
  {
   "cell_type": "markdown",
   "id": "eef2f22e",
   "metadata": {},
   "source": [
    "##### Explore the Datasets"
   ]
  },
  {
   "cell_type": "code",
   "execution_count": 129,
   "id": "cdcd3452",
   "metadata": {},
   "outputs": [
    {
     "name": "stdout",
     "output_type": "stream",
     "text": [
      "<class 'pandas.core.frame.DataFrame'>\n",
      "RangeIndex: 494121 entries, 0 to 494120\n",
      "Data columns (total 10 columns):\n",
      " #   Column             Non-Null Count   Dtype \n",
      "---  ------             --------------   ----- \n",
      " 0   rating             494121 non-null  int64 \n",
      " 1   title              493996 non-null  object\n",
      " 2   text               493980 non-null  object\n",
      " 3   images             494121 non-null  object\n",
      " 4   asin               494121 non-null  object\n",
      " 5   parent_asin        494121 non-null  object\n",
      " 6   user_id            494121 non-null  object\n",
      " 7   timestamp          494121 non-null  object\n",
      " 8   helpful_vote       494121 non-null  int64 \n",
      " 9   verified_purchase  494121 non-null  bool  \n",
      "dtypes: bool(1), int64(2), object(7)\n",
      "memory usage: 34.4+ MB\n",
      "<class 'pandas.core.frame.DataFrame'>\n",
      "RangeIndex: 60293 entries, 0 to 60292\n",
      "Data columns (total 14 columns):\n",
      " #   Column           Non-Null Count  Dtype  \n",
      "---  ------           --------------  -----  \n",
      " 0   main_category    60293 non-null  object \n",
      " 1   title            60288 non-null  object \n",
      " 2   average_rating   60293 non-null  float64\n",
      " 3   rating_number    60293 non-null  int64  \n",
      " 4   features         60293 non-null  object \n",
      " 5   description      60293 non-null  object \n",
      " 6   price            10536 non-null  float64\n",
      " 7   images           60293 non-null  object \n",
      " 8   videos           60293 non-null  object \n",
      " 9   store            57938 non-null  object \n",
      " 10  categories       60293 non-null  object \n",
      " 11  details          60293 non-null  object \n",
      " 12  parent_asin      60293 non-null  object \n",
      " 13  bought_together  0 non-null      float64\n",
      "dtypes: float64(3), int64(1), object(10)\n",
      "memory usage: 6.4+ MB\n"
     ]
    },
    {
     "data": {
      "application/vnd.microsoft.datawrangler.viewer.v0+json": {
       "columns": [
        {
         "name": "rating",
         "rawType": "int64",
         "type": "integer"
        },
        {
         "name": "count",
         "rawType": "int64",
         "type": "integer"
        }
       ],
       "ref": "39568e2d-91cd-4d9e-aae9-57cd0cd4118c",
       "rows": [
        [
         "5",
         "301713"
        ],
        [
         "1",
         "69564"
        ],
        [
         "4",
         "57000"
        ],
        [
         "3",
         "36949"
        ],
        [
         "2",
         "28895"
        ]
       ],
       "shape": {
        "columns": 1,
        "rows": 5
       }
      },
      "text/plain": [
       "rating\n",
       "5    301713\n",
       "1     69564\n",
       "4     57000\n",
       "3     36949\n",
       "2     28895\n",
       "Name: count, dtype: int64"
      ]
     },
     "execution_count": 129,
     "metadata": {},
     "output_type": "execute_result"
    }
   ],
   "source": [
    "# explore the datasets\n",
    "\n",
    "# View the first few rows\n",
    "reviews.head()\n",
    "# Check the structure and data types\n",
    "reviews.info()\n",
    "\n",
    "# View the first few rows\n",
    "metadata.head()\n",
    "# Check the structure and data types\n",
    "metadata.info()\n",
    "\n",
    "reviews['rating'].value_counts()\n"
   ]
  },
  {
   "cell_type": "markdown",
   "id": "2915645d",
   "metadata": {},
   "source": [
    "-head() shows the first few rows of the reviews dataset.\n",
    "\n",
    "-info() displays data types and null values.\n",
    "\n",
    "-Similar exploration for the metadata dataset.\n",
    "\n",
    "-Displays the distribution of rating values in the review data.\n",
    "\n"
   ]
  },
  {
   "cell_type": "markdown",
   "id": "d6dbd649",
   "metadata": {},
   "source": [
    "##### Getting the Dimensions of the Datasets"
   ]
  },
  {
   "cell_type": "code",
   "execution_count": 130,
   "id": "684b56e7",
   "metadata": {},
   "outputs": [
    {
     "name": "stdout",
     "output_type": "stream",
     "text": [
      "Number of rows for reviews dataset: 494121 \n",
      " Number of columns for reviews dataset: 10 \n",
      "Number of rows for metadata dataset: 60293 \n",
      " Number of columns for metadata dataset: 14 \n"
     ]
    }
   ],
   "source": [
    "# Get the dimension of the data for review dataset\n",
    "review = reviews.shape\n",
    "\n",
    "print(f\"Number of rows for reviews dataset: {review[0]} \\n Number of columns for reviews dataset: {review[1]} \")\n",
    "\n",
    "# Get the dimension of the data for metadata dataset\n",
    "meta = metadata.shape\n",
    "\n",
    "print(f\"Number of rows for metadata dataset: {meta[0]} \\n Number of columns for metadata dataset: {meta[1]} \")\n",
    "\n"
   ]
  },
  {
   "cell_type": "markdown",
   "id": "1c03803c",
   "metadata": {},
   "source": [
    "-Prints out the dimensionality for a quick overview."
   ]
  },
  {
   "cell_type": "markdown",
   "id": "018e2127",
   "metadata": {},
   "source": [
    "## 2. Data Preprocessing"
   ]
  },
  {
   "cell_type": "markdown",
   "id": "9f8160a0",
   "metadata": {},
   "source": [
    "Data Cleaning: The collected data for each stock was subject to a cleaning process where all null values, missing values and inconsistencies were addressed.\n",
    "Before start use the dataset for this project, duplicated row should be checked."
   ]
  },
  {
   "cell_type": "markdown",
   "id": "ebe61df9",
   "metadata": {},
   "source": [
    "### 2.1 Data Cleaning for review dataset\n"
   ]
  },
  {
   "cell_type": "markdown",
   "id": "9a6fa679",
   "metadata": {},
   "source": [
    "This step ensures the review dataset is clean and reliable by identifying missing values and duplicate records."
   ]
  },
  {
   "cell_type": "markdown",
   "id": "4ae50621",
   "metadata": {},
   "source": [
    "##### Check for Missing Values"
   ]
  },
  {
   "cell_type": "code",
   "execution_count": 131,
   "id": "f2d0893f",
   "metadata": {},
   "outputs": [
    {
     "name": "stdout",
     "output_type": "stream",
     "text": [
      "Missing values per column:\n",
      " rating                 0\n",
      "title                125\n",
      "text                 141\n",
      "images                 0\n",
      "asin                   0\n",
      "parent_asin            0\n",
      "user_id                0\n",
      "timestamp              0\n",
      "helpful_vote           0\n",
      "verified_purchase      0\n",
      "dtype: int64\n"
     ]
    },
    {
     "data": {
      "image/png": "[encoded data removed]",
      "text/plain": [
       "<Figure size 640x480 with 1 Axes>"
      ]
     },
     "metadata": {},
     "output_type": "display_data"
    }
   ],
   "source": [
    "# Check for missing values\n",
    "print(\"Missing values per column:\\n\", reviews.isnull().sum())\n",
    "\n",
    "\n",
    "\n",
    "# Visualize missing values\n",
    "sns.heatmap(reviews.isnull(), cbar=False, cmap=\"viridis\")\n",
    "plt.title(\"Missing Values Heatmap\")\n",
    "plt.show()"
   ]
  },
  {
   "cell_type": "markdown",
   "id": "c6a234e2",
   "metadata": {},
   "source": [
    "-Prints the number of missing entries for each column in the reviews DataFrame.\n",
    "\n",
    "-Visualizes missing data using a heatmap.\n",
    "\n",
    "-The color coding helps easily identify which columns contain nulls."
   ]
  },
  {
   "cell_type": "markdown",
   "id": "b30dbe90",
   "metadata": {},
   "source": [
    "##### Check for Duplicated Rows"
   ]
  },
  {
   "cell_type": "code",
   "execution_count": 132,
   "id": "2f2a57b2",
   "metadata": {},
   "outputs": [
    {
     "name": "stdout",
     "output_type": "stream",
     "text": [
      "        rating                                 title  \\\n",
      "806          1  Buyer Beware - Total Bate and Switch   \n",
      "3658         5                       Superb quality!   \n",
      "4003         5                    Cleans wonderfully   \n",
      "4499         5                       Great product!!   \n",
      "4625         5                        Bathroom Scale   \n",
      "...        ...                                   ...   \n",
      "493415       5                Good Quality and price   \n",
      "493514       4   Overall I am happy with my purchase   \n",
      "493523       5  Very comfortable silicone ear plugs.   \n",
      "493746       1                  Leaky, Low pressure.   \n",
      "494000       2                        Dislike blades   \n",
      "\n",
      "                                                     text images        asin  \\\n",
      "806     I've taken this product for years and I've wat...     []  B006M3ZVLC   \n",
      "3658    Very fast delivery!<br /><br />Strong and dura...     []  B07Q35QD56   \n",
      "4003                     It cleaned my shower wonderfully     []  B01AVKF06W   \n",
      "4499    I bought this to take while breastfeeding our ...     []  B007OF55Y0   \n",
      "4625    Just what was ordered. Nothing fancy, but dura...     []  B0014JVJQK   \n",
      "...                                                   ...    ...         ...   \n",
      "493415  The size is just what we wanted and it was eas...     []  B07TLX9853   \n",
      "493514  Overall I am happy with my purchase. All the c...     []  B00KPQ7ITA   \n",
      "493523  Extremely comfortable noise cancelling ear plu...     []  B07MZHT6HJ   \n",
      "493746  Bought this product to help clean out my brace...     []  B0756FFRF7   \n",
      "494000  Don't like the plastic blade and does not cut ...     []  B07PMWCR7D   \n",
      "\n",
      "       parent_asin                       user_id timestamp  helpful_vote  \\\n",
      "806     B00QJQUOPK  AGRAB5A32I5FQFZJ5NGTPTSMBXRA   19:10.8             7   \n",
      "3658    B07Q35QD56  AEDLHEZNJO5Y4MIVBAWKNEP3B25Q   32:31.8             3   \n",
      "4003    B01AVKF06W  AGHHPX5M7W4XYCXCKLOPKMD7ZP2A   38:19.1             0   \n",
      "4499    B007OF55Y0  AEZS3JUDOTSI4ARZ2W4IV4NGMMFA   05:30.0             2   \n",
      "4625    B0014JVJQK  AG5U5ZADHS4KLHO4DBMHV6EU3TCA   47:13.0             0   \n",
      "...            ...                           ...       ...           ...   \n",
      "493415  B09X3F4QSJ  AHUOM3O54P5KPMSXOWOQL4XU65EA   35:34.6             0   \n",
      "493514  B00KPQ7ITA  AHJAFEX55MKGXMQBHRWC4RAMGKXA   41:12.0             0   \n",
      "493523  B07MZHT6HJ  AE5HBNJWYEEMFGFTJJEUDQ3LNJGQ   37:44.8             1   \n",
      "493746  B0756FFRF7  AE5XSVGPUGTV247FQRX3DYCAS5DQ   45:46.3             0   \n",
      "494000  B07PMWCR7D  AGIHGIZUDZFYWREZS2SWTOYUE3LQ   05:24.6             0   \n",
      "\n",
      "        verified_purchase  \n",
      "806                  True  \n",
      "3658                False  \n",
      "4003                 True  \n",
      "4499                 True  \n",
      "4625                 True  \n",
      "...                   ...  \n",
      "493415               True  \n",
      "493514               True  \n",
      "493523               True  \n",
      "493746               True  \n",
      "494000               True  \n",
      "\n",
      "[5130 rows x 10 columns]\n",
      "Number of duplicate rows: 5130\n"
     ]
    }
   ],
   "source": [
    "# Check duplicated row\n",
    "# Identify duplicate rows\n",
    "duplicates = reviews[reviews.duplicated()]\n",
    "\n",
    "# Display the duplicate rows\n",
    "print(duplicates)\n",
    "\n",
    "# Count the number of duplicate rows\n",
    "num_duplicates = reviews.duplicated().sum()\n",
    "print(f\"Number of duplicate rows: {num_duplicates}\")"
   ]
  },
  {
   "cell_type": "markdown",
   "id": "48fb35b1",
   "metadata": {},
   "source": [
    "-Identifies and displays duplicate rows that might skew analysis or model training.\n",
    "\n",
    "-Counts the total number of duplicates for removal if needed.\n",
    "\n"
   ]
  },
  {
   "cell_type": "markdown",
   "id": "277f1980",
   "metadata": {},
   "source": [
    "#### Data Handling"
   ]
  },
  {
   "cell_type": "markdown",
   "id": "ab3447ef",
   "metadata": {},
   "source": [
    "This step will drop unnecessary columns before handling missing Value. "
   ]
  },
  {
   "cell_type": "code",
   "execution_count": 133,
   "id": "81b6a464",
   "metadata": {},
   "outputs": [
    {
     "name": "stdout",
     "output_type": "stream",
     "text": [
      "Well done, dropping for unnecessary columns\n"
     ]
    }
   ],
   "source": [
    "# Drop unnecessary columns with any missing value\n",
    "reviews = reviews.drop(columns=[\"images\", \"timestamp\"])  # 'images' is empty, 'timestamp' not used for now\n",
    "print(f\"Well done, dropping for unnecessary columns\")"
   ]
  },
  {
   "cell_type": "markdown",
   "id": "78eb6edd",
   "metadata": {},
   "source": [
    "We need to drop for missing data to get useful dataset."
   ]
  },
  {
   "cell_type": "code",
   "execution_count": 134,
   "id": "5eaf9c7a",
   "metadata": {},
   "outputs": [
    {
     "name": "stdout",
     "output_type": "stream",
     "text": [
      "Missing value handling is complete.\n"
     ]
    }
   ],
   "source": [
    "# Drop Missing reviews\n",
    "reviews.dropna(subset=['text'], inplace=True)\n",
    "\n",
    "# Drop misssing title\n",
    "reviews.dropna(subset=['title'], inplace=True)\n",
    "\n",
    "print(f\"Missing value handling is complete.\")\n"
   ]
  },
  {
   "cell_type": "code",
   "execution_count": 135,
   "id": "7d40a88e",
   "metadata": {},
   "outputs": [
    {
     "name": "stdout",
     "output_type": "stream",
     "text": [
      "Removing duplicate value is complete.\n"
     ]
    }
   ],
   "source": [
    "# Remove duplicate rows\n",
    "cleaned_reviews_df = reviews.drop_duplicates()\n",
    "print(f\"Removing duplicate value is complete.\")\n"
   ]
  },
  {
   "cell_type": "code",
   "execution_count": 136,
   "id": "f74ebf6c",
   "metadata": {},
   "outputs": [
    {
     "name": "stdout",
     "output_type": "stream",
     "text": [
      "Missing values now: rating               0\n",
      "title                0\n",
      "text                 0\n",
      "asin                 0\n",
      "parent_asin          0\n",
      "user_id              0\n",
      "helpful_vote         0\n",
      "verified_purchase    0\n",
      "dtype: int64\n",
      "Number of duplicate rows now: 0\n"
     ]
    }
   ],
   "source": [
    "# Double-check\n",
    "print(f\"Missing values now: {cleaned_reviews_df.isnull().sum()}\")\n",
    "print(f\"Number of duplicate rows now: {cleaned_reviews_df.duplicated().sum()}\")"
   ]
  },
  {
   "cell_type": "code",
   "execution_count": 137,
   "id": "35212095",
   "metadata": {},
   "outputs": [
    {
     "name": "stdout",
     "output_type": "stream",
     "text": [
      "Rows length: 488776\n",
      "Columns length: Index(['rating', 'title', 'text', 'asin', 'parent_asin', 'user_id',\n",
      "       'helpful_vote', 'verified_purchase'],\n",
      "      dtype='object')\n"
     ]
    }
   ],
   "source": [
    "# show length of rows and columns from dataset after cleaning\n",
    "print(f\"Rows length: {len(cleaned_reviews_df)}\")\n",
    "print(f\"Columns length: {cleaned_reviews_df.columns}\")"
   ]
  },
  {
   "cell_type": "code",
   "execution_count": 138,
   "id": "3c6bf5ce",
   "metadata": {},
   "outputs": [
    {
     "name": "stdout",
     "output_type": "stream",
     "text": [
      "rating                int64\n",
      "title                object\n",
      "text                 object\n",
      "asin                 object\n",
      "parent_asin          object\n",
      "user_id              object\n",
      "helpful_vote          int64\n",
      "verified_purchase      bool\n",
      "dtype: object\n"
     ]
    }
   ],
   "source": [
    "# Check column data types\n",
    "print(cleaned_reviews_df.dtypes)"
   ]
  },
  {
   "cell_type": "markdown",
   "id": "739841e0",
   "metadata": {},
   "source": [
    "This step will cleaning the reviews text."
   ]
  },
  {
   "cell_type": "code",
   "execution_count": 139,
   "id": "824ebedd",
   "metadata": {},
   "outputs": [
    {
     "name": "stderr",
     "output_type": "stream",
     "text": [
      "C:\\Users\\User\\AppData\\Local\\Temp\\ipykernel_24056\\1925675872.py:9: SettingWithCopyWarning: \n",
      "A value is trying to be set on a copy of a slice from a DataFrame.\n",
      "Try using .loc[row_indexer,col_indexer] = value instead\n",
      "\n",
      "See the caveats in the documentation: https://pandas.pydata.org/pandas-docs/stable/user_guide/indexing.html#returning-a-view-versus-a-copy\n",
      "  cleaned_reviews_df['cleaned_text'] = cleaned_reviews_df['text'].apply(clean_text)\n"
     ]
    }
   ],
   "source": [
    "# Cleaning the reviews text\n",
    "import re\n",
    "\n",
    "def clean_text(text):\n",
    "    text = str(text).lower()\n",
    "    text = re.sub(r\"[^a-z0-9\\s]\", \"\", text)  # remove punctuation and symbols\n",
    "    return text\n",
    "\n",
    "cleaned_reviews_df['cleaned_text'] = cleaned_reviews_df['text'].apply(clean_text)\n"
   ]
  },
  {
   "cell_type": "markdown",
   "id": "4c8e05d6",
   "metadata": {},
   "source": [
    "The value of dataset should be checked after the data handling."
   ]
  },
  {
   "cell_type": "code",
   "execution_count": 140,
   "id": "df42a877",
   "metadata": {},
   "outputs": [
    {
     "data": {
      "image/png": "[encoded data removed]",
      "text/plain": [
       "<Figure size 640x480 with 1 Axes>"
      ]
     },
     "metadata": {},
     "output_type": "display_data"
    }
   ],
   "source": [
    "#Checking for null values\n",
    "cleaned_reviews_df.isnull().sum()\n",
    "\n",
    "# Visualize missing values\n",
    "sns.heatmap(reviews.isnull(), cbar=False, cmap=\"viridis\")\n",
    "plt.title(\"Missing Values Heatmap\")\n",
    "plt.show()"
   ]
  },
  {
   "cell_type": "markdown",
   "id": "d32068a1",
   "metadata": {},
   "source": [
    "##### Show Length of Rows and Column"
   ]
  },
  {
   "cell_type": "code",
   "execution_count": 141,
   "id": "cdbfe6b3",
   "metadata": {},
   "outputs": [
    {
     "name": "stdout",
     "output_type": "stream",
     "text": [
      "Rows length: 488776\n",
      "Columns length: Index(['rating', 'title', 'text', 'asin', 'parent_asin', 'user_id',\n",
      "       'helpful_vote', 'verified_purchase', 'cleaned_text'],\n",
      "      dtype='object')\n"
     ]
    }
   ],
   "source": [
    "# show length of rows and columns from dataset after cleaning\n",
    "print(f\"Rows length: {len(cleaned_reviews_df)}\")\n",
    "print(f\"Columns length: {cleaned_reviews_df.columns}\")"
   ]
  },
  {
   "cell_type": "markdown",
   "id": "bf2ea571",
   "metadata": {},
   "source": [
    "-Displays the number of rows and the list of column names in the cleaned dataset.\n",
    "\n",
    "-Helps confirm that the dataset structure is as expected."
   ]
  },
  {
   "cell_type": "markdown",
   "id": "da60050d",
   "metadata": {},
   "source": [
    "Finally, we will save the cleaning review dataset."
   ]
  },
  {
   "cell_type": "code",
   "execution_count": 142,
   "id": "0f9b4262",
   "metadata": {},
   "outputs": [],
   "source": [
    "# save cleaned review dataset \n",
    "cleaned_reviews_df.to_csv(\"data/cleaned_reviews_df.csv\", index=False)\n"
   ]
  },
  {
   "cell_type": "markdown",
   "id": "62fc191e",
   "metadata": {},
   "source": [
    "### 2.2 Data Cleaning for metadata dataset"
   ]
  },
  {
   "cell_type": "markdown",
   "id": "b1e1c26d",
   "metadata": {},
   "source": [
    "This section performs essential data cleaning on the product metadata file to ensure high-quality and usable data for analysis and modeling."
   ]
  },
  {
   "cell_type": "markdown",
   "id": "44bf8327",
   "metadata": {},
   "source": [
    "Before cleaning the metadata, this section performs diagnostic checks to understand its structure, missing values, and duplicates."
   ]
  },
  {
   "cell_type": "markdown",
   "id": "768ebbf5",
   "metadata": {},
   "source": [
    "##### Dataset Structure"
   ]
  },
  {
   "cell_type": "code",
   "execution_count": 143,
   "id": "1b4dfac6",
   "metadata": {},
   "outputs": [
    {
     "name": "stdout",
     "output_type": "stream",
     "text": [
      "<class 'pandas.core.frame.DataFrame'>\n",
      "RangeIndex: 60293 entries, 0 to 60292\n",
      "Data columns (total 14 columns):\n",
      " #   Column           Non-Null Count  Dtype  \n",
      "---  ------           --------------  -----  \n",
      " 0   main_category    60293 non-null  object \n",
      " 1   title            60288 non-null  object \n",
      " 2   average_rating   60293 non-null  float64\n",
      " 3   rating_number    60293 non-null  int64  \n",
      " 4   features         60293 non-null  object \n",
      " 5   description      60293 non-null  object \n",
      " 6   price            10536 non-null  float64\n",
      " 7   images           60293 non-null  object \n",
      " 8   videos           60293 non-null  object \n",
      " 9   store            57938 non-null  object \n",
      " 10  categories       60293 non-null  object \n",
      " 11  details          60293 non-null  object \n",
      " 12  parent_asin      60293 non-null  object \n",
      " 13  bought_together  0 non-null      float64\n",
      "dtypes: float64(3), int64(1), object(10)\n",
      "memory usage: 6.4+ MB\n"
     ]
    }
   ],
   "source": [
    "# Check structure\n",
    "metadata.info()\n"
   ]
  },
  {
   "cell_type": "markdown",
   "id": "91f743a2",
   "metadata": {},
   "source": [
    "-Displays the number of non-null values per column.\n",
    "\n",
    "-Shows column names and data types.\n",
    "\n",
    "-Helps identify potential type issues or major gaps."
   ]
  },
  {
   "cell_type": "markdown",
   "id": "263613ea",
   "metadata": {},
   "source": [
    "##### Identify Missing Values"
   ]
  },
  {
   "cell_type": "code",
   "execution_count": 144,
   "id": "ca6efc16",
   "metadata": {},
   "outputs": [
    {
     "name": "stdout",
     "output_type": "stream",
     "text": [
      "Missing values per column:\n",
      " main_category          0\n",
      "title                  5\n",
      "average_rating         0\n",
      "rating_number          0\n",
      "features               0\n",
      "description            0\n",
      "price              49757\n",
      "images                 0\n",
      "videos                 0\n",
      "store               2355\n",
      "categories             0\n",
      "details                0\n",
      "parent_asin            0\n",
      "bought_together    60293\n",
      "dtype: int64\n"
     ]
    },
    {
     "data": {
      "image/png": "[encoded data removed]",
      "text/plain": [
       "<Figure size 640x480 with 1 Axes>"
      ]
     },
     "metadata": {},
     "output_type": "display_data"
    }
   ],
   "source": [
    "# Check for missing values\n",
    "metadata.isnull().sum()\n",
    "print(\"Missing values per column:\\n\", metadata.isnull().sum())\n",
    "\n",
    "# Visualize missing values\n",
    "sns.heatmap(metadata.isnull(), cbar=False, cmap=\"viridis\")\n",
    "plt.title(\"Missing Values Heatmap for metadata\")\n",
    "plt.show()\n"
   ]
  },
  {
   "cell_type": "markdown",
   "id": "8e13809e",
   "metadata": {},
   "source": [
    "-Shows the count of missing entries for each column.\n",
    "\n",
    "-Visualizes missing values using a heatmap.\n",
    "\n",
    "-Helpful for detecting patterns or widespread null columns."
   ]
  },
  {
   "cell_type": "markdown",
   "id": "6c0dd02a",
   "metadata": {},
   "source": [
    "##### Check for Duplicates"
   ]
  },
  {
   "cell_type": "code",
   "execution_count": 145,
   "id": "f8130a1f",
   "metadata": {},
   "outputs": [
    {
     "name": "stdout",
     "output_type": "stream",
     "text": [
      "Empty DataFrame\n",
      "Columns: [main_category, title, average_rating, rating_number, features, description, price, images, videos, store, categories, details, parent_asin, bought_together]\n",
      "Index: []\n",
      "Number of duplicate rows: 0\n"
     ]
    }
   ],
   "source": [
    "# Check duplicated row\n",
    "# Identify duplicate rows\n",
    "duplicates = metadata[metadata.duplicated()]\n",
    "\n",
    "# Display the duplicate rows\n",
    "print(duplicates)\n",
    "\n",
    "# Count the number of duplicate rows\n",
    "num_duplicates = metadata.duplicated().sum()\n",
    "print(f\"Number of duplicate rows: {num_duplicates}\")"
   ]
  },
  {
   "cell_type": "markdown",
   "id": "593ee3d2",
   "metadata": {},
   "source": [
    "-Extracts and prints all duplicate rows.\n",
    "\n",
    "-Displays the total count of duplicate records."
   ]
  },
  {
   "cell_type": "markdown",
   "id": "d53dfe0f",
   "metadata": {},
   "source": [
    "#### Data Handling"
   ]
  },
  {
   "cell_type": "markdown",
   "id": "6bc6b2ce",
   "metadata": {},
   "source": [
    "This section prepares the raw metadata for analysis by removing irrelevant fields, handling missing values, and eliminating duplicates."
   ]
  },
  {
   "cell_type": "markdown",
   "id": "6f873e6c",
   "metadata": {},
   "source": [
    "##### Drop Columns"
   ]
  },
  {
   "cell_type": "markdown",
   "id": "ef2d14c9",
   "metadata": {},
   "source": [
    "We will start data handling by dropping unnecessary column."
   ]
  },
  {
   "cell_type": "code",
   "execution_count": 146,
   "id": "2c993e95",
   "metadata": {},
   "outputs": [
    {
     "name": "stdout",
     "output_type": "stream",
     "text": [
      "Dropping unnecessary columns is complete.\n"
     ]
    }
   ],
   "source": [
    "# Drop unnecessary column for metadata\n",
    "metadata_df = metadata.drop(columns=[\n",
    "    'features', 'description', 'images', 'videos', 'categories', 'bought_together'\n",
    "])\n",
    "\n",
    "print(f\"Dropping unnecessary columns is complete.\")\n"
   ]
  },
  {
   "cell_type": "markdown",
   "id": "fff73928",
   "metadata": {},
   "source": [
    "-Removes fields that are not essential for recommendation or sentiment scoring.\n",
    "\n",
    "-Helps reduce memory usage and processing time by keeping only the relevant data."
   ]
  },
  {
   "cell_type": "code",
   "execution_count": 147,
   "id": "f94183c9",
   "metadata": {},
   "outputs": [],
   "source": [
    "import re\n",
    "\n",
    "# Strip {, }, and keys\n",
    "def clean_details(text):\n",
    "    return re.sub(r\"[{}']\", \"\", re.sub(r\"\\s*\\w+:\\s*\", \"\", str(text)))\n",
    "\n",
    "metadata_df['details'] = metadata_df['details'].apply(clean_details)\n"
   ]
  },
  {
   "cell_type": "markdown",
   "id": "56834772",
   "metadata": {},
   "source": [
    "##### Handle Missing Values"
   ]
  },
  {
   "cell_type": "markdown",
   "id": "7cf893b1",
   "metadata": {},
   "source": [
    "This step is handling missing value for product data."
   ]
  },
  {
   "cell_type": "code",
   "execution_count": 148,
   "id": "d64e3925",
   "metadata": {},
   "outputs": [
    {
     "name": "stdout",
     "output_type": "stream",
     "text": [
      "Missing value handling complete: kept all rows with filled price and store.\n"
     ]
    }
   ],
   "source": [
    "# Drop and Fill for missing value data\n",
    "# Drop rows where essential info is missing\n",
    "metadata_df = metadata_df.dropna(subset=['title'])\n",
    "\n",
    "# Fill missing price with median (to avoid dropping useful rows)\n",
    "metadata_df['price'] = metadata_df['price'].fillna(metadata_df['price'].median())\n",
    "\n",
    "# Optional: fill missing store or title with placeholder\n",
    "metadata_df['store'] = metadata_df['store'].fillna('Unknown')\n",
    "\n",
    "print(f\"Missing value handling complete: kept all rows with filled price and store.\")\n"
   ]
  },
  {
   "cell_type": "markdown",
   "id": "e421fcb8",
   "metadata": {},
   "source": [
    "-Drops rows where key fields like title or price are missing.\n",
    "\n",
    "-Fills missing values in the store column with a placeholder ('Unknown').\n",
    "\n",
    "-Ensures the dataset is clean enough for analysis and modeling."
   ]
  },
  {
   "cell_type": "markdown",
   "id": "b9b083ad",
   "metadata": {},
   "source": [
    "##### Remove Duplicate Rows"
   ]
  },
  {
   "cell_type": "code",
   "execution_count": 149,
   "id": "75ea85f5",
   "metadata": {},
   "outputs": [
    {
     "name": "stdout",
     "output_type": "stream",
     "text": [
      "Removing duplicate value is complete.\n"
     ]
    }
   ],
   "source": [
    "# Remove duplicate rows\n",
    "metadata_df = metadata_df.drop_duplicates()\n",
    "print(f\"Removing duplicate value is complete.\")"
   ]
  },
  {
   "cell_type": "markdown",
   "id": "4a91f19b",
   "metadata": {},
   "source": [
    "-Eliminates repeated rows from the dataset to prevent distortion of results or duplicate recommendations."
   ]
  },
  {
   "cell_type": "markdown",
   "id": "59757712",
   "metadata": {},
   "source": [
    "##### Convert Data Types"
   ]
  },
  {
   "cell_type": "code",
   "execution_count": 150,
   "id": "3a190ad4",
   "metadata": {},
   "outputs": [],
   "source": [
    "# Convert data type \n",
    "metadata_df['price'] = pd.to_numeric(metadata_df['price'], errors='coerce')\n",
    "metadata_df['average_rating'] = pd.to_numeric(metadata_df['average_rating'], errors='coerce')\n",
    "metadata_df['rating_number'] = pd.to_numeric(metadata_df['rating_number'], errors='coerce')\n"
   ]
  },
  {
   "cell_type": "markdown",
   "id": "3d6f3442",
   "metadata": {},
   "source": [
    "-Converts string or object-type columns (price, average_rating, rating_number) into numeric format.\n",
    "\n",
    "-errors='coerce' ensures that invalid entries become NaN instead of throwing errors.\n",
    "\n",
    "-This conversion is crucial for calculations, analysis, and model input."
   ]
  },
  {
   "cell_type": "markdown",
   "id": "97e7f5da",
   "metadata": {},
   "source": [
    "##### Filter and Rename Columns"
   ]
  },
  {
   "cell_type": "code",
   "execution_count": 151,
   "id": "ebbcaffc",
   "metadata": {},
   "outputs": [
    {
     "name": "stdout",
     "output_type": "stream",
     "text": [
      "<class 'pandas.core.frame.DataFrame'>\n",
      "Index: 60288 entries, 0 to 60292\n",
      "Data columns (total 8 columns):\n",
      " #   Column          Non-Null Count  Dtype  \n",
      "---  ------          --------------  -----  \n",
      " 0   parent_asin     60288 non-null  object \n",
      " 1   main_category   60288 non-null  object \n",
      " 2   product_title   60288 non-null  object \n",
      " 3   average_rating  60288 non-null  float64\n",
      " 4   rating_number   60288 non-null  int64  \n",
      " 5   price           60288 non-null  float64\n",
      " 6   store           60288 non-null  object \n",
      " 7   details         60288 non-null  object \n",
      "dtypes: float64(2), int64(1), object(5)\n",
      "memory usage: 4.1+ MB\n"
     ]
    }
   ],
   "source": [
    "# Filter and Rename Columns\n",
    "cleaned_metadata_df = metadata_df[[\n",
    "    'parent_asin', 'main_category', 'title', 'average_rating', 'rating_number', 'price', 'store', 'details'\n",
    "]]\n",
    "cleaned_metadata_df.rename(columns={'title': 'product_title'}, inplace=True)\n",
    "\n",
    "\n",
    "cleaned_metadata_df.info()\n"
   ]
  },
  {
   "cell_type": "markdown",
   "id": "633509d0",
   "metadata": {},
   "source": [
    "-Selects only the relevant columns needed for the project:\n",
    "\n",
    "-parent_asin, main_category, title, average_rating, rating_number, price, and store\n",
    "\n",
    "-Renames the title column to product_title for clarity and consistency."
   ]
  },
  {
   "cell_type": "markdown",
   "id": "b0ce3669",
   "metadata": {},
   "source": [
    "##### Final Checks"
   ]
  },
  {
   "cell_type": "code",
   "execution_count": 152,
   "id": "af425597",
   "metadata": {},
   "outputs": [
    {
     "name": "stdout",
     "output_type": "stream",
     "text": [
      "<class 'pandas.core.frame.DataFrame'>\n",
      "Index: 60288 entries, 0 to 60292\n",
      "Data columns (total 8 columns):\n",
      " #   Column          Non-Null Count  Dtype  \n",
      "---  ------          --------------  -----  \n",
      " 0   parent_asin     60288 non-null  object \n",
      " 1   main_category   60288 non-null  object \n",
      " 2   product_title   60288 non-null  object \n",
      " 3   average_rating  60288 non-null  float64\n",
      " 4   rating_number   60288 non-null  int64  \n",
      " 5   price           60288 non-null  float64\n",
      " 6   store           60288 non-null  object \n",
      " 7   details         60288 non-null  object \n",
      "dtypes: float64(2), int64(1), object(5)\n",
      "memory usage: 4.1+ MB\n",
      "Summary of data types: None\n",
      "Missing values now: parent_asin       0\n",
      "main_category     0\n",
      "product_title     0\n",
      "average_rating    0\n",
      "rating_number     0\n",
      "price             0\n",
      "store             0\n",
      "details           0\n",
      "dtype: int64\n",
      "Number of duplicate rows now: 0\n"
     ]
    }
   ],
   "source": [
    "# Double-check\n",
    "print(f\"Summary of data types: {cleaned_metadata_df.info()}\")\n",
    "print(f\"Missing values now: {cleaned_metadata_df.isnull().sum()}\")\n",
    "print(f\"Number of duplicate rows now: {cleaned_metadata_df.duplicated().sum()}\")"
   ]
  },
  {
   "cell_type": "markdown",
   "id": "9c984b9d",
   "metadata": {},
   "source": [
    "-Provides a summary of data types and non-null counts.\n",
    "\n",
    "-Verifies that missing values and duplicates have been handled properly."
   ]
  },
  {
   "cell_type": "markdown",
   "id": "25f35558",
   "metadata": {},
   "source": [
    "##### Show Length of Rows and Column"
   ]
  },
  {
   "cell_type": "code",
   "execution_count": 153,
   "id": "fc943d83",
   "metadata": {},
   "outputs": [
    {
     "name": "stdout",
     "output_type": "stream",
     "text": [
      "Rows length: 60288\n",
      "Columns length: Index(['parent_asin', 'main_category', 'product_title', 'average_rating',\n",
      "       'rating_number', 'price', 'store', 'details'],\n",
      "      dtype='object')\n"
     ]
    }
   ],
   "source": [
    "# show length of rows and columns from dataset after cleaning\n",
    "print(f\"Rows length: {len(cleaned_metadata_df)}\")\n",
    "print(f\"Columns length: {cleaned_metadata_df.columns}\")"
   ]
  },
  {
   "cell_type": "markdown",
   "id": "f32419c6",
   "metadata": {},
   "source": [
    "-Displays the number of rows and the list of column names in the cleaned dataset.\n",
    "\n",
    "-Helps confirm that the dataset structure is as expected."
   ]
  },
  {
   "cell_type": "markdown",
   "id": "201dfe79",
   "metadata": {},
   "source": [
    "##### Check Data Type"
   ]
  },
  {
   "cell_type": "code",
   "execution_count": 154,
   "id": "21dbd0fb",
   "metadata": {},
   "outputs": [
    {
     "name": "stdout",
     "output_type": "stream",
     "text": [
      "parent_asin        object\n",
      "main_category      object\n",
      "product_title      object\n",
      "average_rating    float64\n",
      "rating_number       int64\n",
      "price             float64\n",
      "store              object\n",
      "details            object\n",
      "dtype: object\n"
     ]
    }
   ],
   "source": [
    "# Check column data types\n",
    "print(cleaned_metadata_df.dtypes)"
   ]
  },
  {
   "cell_type": "markdown",
   "id": "d81d1d15",
   "metadata": {},
   "source": [
    "-Shows the data type for each column.\n",
    "\n",
    "-Confirms that numeric fields like price, rating, and rating_number are properly converted to float or int.\n",
    "\n"
   ]
  },
  {
   "cell_type": "markdown",
   "id": "32101d77",
   "metadata": {},
   "source": [
    "##### Save the Cleaned Metadata"
   ]
  },
  {
   "cell_type": "code",
   "execution_count": 155,
   "id": "8c0c58ec",
   "metadata": {},
   "outputs": [],
   "source": [
    "# save cleaned metadata dataset\n",
    "cleaned_metadata_df.to_csv(\"data/cleaned_metadata_df.csv\", index=False)\n"
   ]
  },
  {
   "cell_type": "markdown",
   "id": "8a8d1f80",
   "metadata": {},
   "source": [
    "-Exports the cleaned metadata_df to a new CSV file.\n",
    "\n",
    "-Sets index=False to avoid writing row numbers as a separate column."
   ]
  }
 ],
 "metadata": {
  "kernelspec": {
   "display_name": "Python 3",
   "language": "python",
   "name": "python3"
  },
  "language_info": {
   "codemirror_mode": {
    "name": "ipython",
    "version": 3
   },
   "file_extension": ".py",
   "mimetype": "text/x-python",
   "name": "python",
   "nbconvert_exporter": "python",
   "pygments_lexer": "ipython3",
   "version": "3.12.7"
  }
 },
 "nbformat": 4,
 "nbformat_minor": 5
}
